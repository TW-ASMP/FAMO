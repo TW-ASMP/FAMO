{
 "cells": [
  {
   "cell_type": "code",
   "execution_count": 1,
   "id": "9d4b2baf-5864-4a0e-a8da-dbde8ce40968",
   "metadata": {
    "tags": []
   },
   "outputs": [],
   "source": [
    "import pandas as pd\n",
    "from datetime import datetime\n",
    "import pytz"
   ]
  },
  {
   "cell_type": "code",
   "execution_count": 2,
   "id": "23fea700-6417-4eb2-b097-d822d33fcb0b",
   "metadata": {},
   "outputs": [],
   "source": [
    "fakealarm_df = pd.read_csv(\"01-tw-fakescada.csv\")"
   ]
  },
  {
   "cell_type": "markdown",
   "id": "de556c15-19af-4f39-8317-38bf02e9efbe",
   "metadata": {},
   "source": [
    "# RDF transformation"
   ]
  },
  {
   "cell_type": "code",
   "execution_count": 3,
   "id": "96762670-208f-4160-a197-c77b753ffd98",
   "metadata": {
    "tags": []
   },
   "outputs": [],
   "source": [
    "#define key namespaces to be used in the mapping\n",
    "famo = \"http://ontology.eil.utoronto.ca/FAMO/famo/\"\n",
    "famo_app = \"http://ontology.eil.utoronto.ca/FAMO/famo_hub_application/\"\n",
    "ex = \"http://example.com/data/\"\n",
    "rdf = \"http://www.w3.org/1999/02/22-rdf-syntax-ns#\"\n",
    "owl = \"http://www.w3.org/2002/07/owl#\"\n",
    "\n",
    "#current datetime to be used for identifier suffix\n",
    "dt_now = datetime.now().strftime(\"%d%b%Y_%H%M%S\")"
   ]
  },
  {
   "cell_type": "markdown",
   "id": "3dc1a916-3c7e-481f-be50-5d257b429215",
   "metadata": {},
   "source": [
    "## Alarm mapping\n",
    "\n",
    "* **TODO** test for null values before applying mappings"
   ]
  },
  {
   "cell_type": "code",
   "execution_count": 4,
   "id": "e1768adf-aba4-43d9-b693-d7d94ccdde38",
   "metadata": {},
   "outputs": [],
   "source": [
    "ttl_list = []\n",
    "#prefixes\n",
    "ttl_list.append(f\"PREFIX famo: <{famo}>\"+'\\n')\n",
    "ttl_list.append(f\"PREFIX famo_app: <{famo_app}>\"+'\\n')\n",
    "ttl_list.append(f\"PREFIX ex: <{ex}>\"+'\\n')\n",
    "ttl_list.append(f\"PREFIX rdf: <{rdf}>\"+'\\n')\n",
    "ttl_list.append(f\"PREFIX owl: <{owl}>\"+'\\n')\n",
    "\n",
    "for i in range(0,len(fakealarm_df)):\n",
    "    #record instantiation and interpretation\n",
    "    #scada record about a role\n",
    "    ttl_list.append(f\"ex:scada_rolerec_{fakealarm_df['ServingRole'][i]} rdf:type famo:Record.\"+'\\n')\n",
    "    #instantiated in scada\n",
    "    ttl_list.append(f\"ex:scada_rolerec_{fakealarm_df['ServingRole'][i]} famo:instantiatedIn ex:scada_datasystem.\"+'\\n')\n",
    "    ttl_list.append(f\"ex:scada_rolerec_{fakealarm_df['ServingRole'][i]} famo:hasInterpretation ex:scada_roleinterpretation_{fakealarm_df['ServingRole'][i]}.\"+'\\n')\n",
    "    #denotes corresponding dhid (a role, with an entity number)\n",
    "    ttl_list.append(f\"ex:scada_roleinterpretation_{fakealarm_df['ServingRole'][i]} famo:denotes ex:dhid_{fakealarm_df['ServingRole'][i]}.\"+'\\n')\n",
    "    ttl_list.append(f\"ex:dhid_{fakealarm_df['ServingRole'][i]} rdf:type famo:Role.\"+'\\n')\n",
    "    \n",
    "    #record properties\n",
    "    #represents role of asset in state (SCADA event)\n",
    "    #alarm identifier based on alarm name and datetime epoch\n",
    "    #datetime stamp to epoch and xsd:dateTimeStamp\n",
    "    dt = datetime.strptime(fakealarm_df['Time'][i],'%Y-%m-%d %H:%M:%S')\n",
    "    dt_epoch = (dt).strftime('%s')\n",
    "    dt_xsd = dt.astimezone(pytz.timezone('America/Toronto')).isoformat()\n",
    "    alarm_uuid = f\"{fakealarm_df['EventName'][i].replace(' ','')}_{dt_epoch}\"\n",
    "    ttl_list.append(f\"ex:scada_rolerec_{fakealarm_df['ServingRole'][i]} famo:representsRoleOfAssetInState ex:scada_{alarm_uuid}.\"+'\\n')\n",
    "    \n",
    "    #may also insert a mapping that the alarm is of a more specific type, e.g.\n",
    "    # ex:scada_{alarm_uuid} rdf:type famo:{fakealarm_df['EventName'][i].replace(' ','')}\n",
    "    \n",
    "    #subclass of scada alarm or event\n",
    "    if (fakealarm_df['EventType'][i] == \"Alarm\"):\n",
    "        ttl_list.append(f\"ex:scada_{alarm_uuid} rdf:type famo:SCADAAlarmState.\"+'\\n')\n",
    "    elif (fakealarm_df['EventType'][i] == \"Warning\"):\n",
    "        ttl_list.append(f\"ex:scada_{alarm_uuid} rdf:type famo:SCADAWarningState.\"+'\\n')\n",
    "    \n",
    "    #state time\n",
    "    #currently mapping to time:hasTime (agnostic as to what kind of time relation (beginning/end/etc) this may be the most appropriate\n",
    "    dt.isoformat()\n",
    "    ttl_list.append(f\"ex:scada_{alarm_uuid} famo_app:hasXSDDateTimeStamp '{dt_xsd}'.\"+'\\n')"
   ]
  },
  {
   "cell_type": "code",
   "execution_count": 5,
   "id": "218eff52-d4d6-4841-97f7-7088762fc846",
   "metadata": {},
   "outputs": [],
   "source": [
    "ttl_results = open(\"01_fakealarms_out.ttl\", \"a\")\n",
    "#for i in range(0,len(fakeasset_df)-1):\n",
    "#record instantiation and interpretation\n",
    "ttl_results.writelines(ttl_list)\n",
    "\n",
    "ttl_results.close()"
   ]
  },
  {
   "cell_type": "code",
   "execution_count": null,
   "id": "8ba5016f-0b02-4edf-bca1-570160f0016d",
   "metadata": {},
   "outputs": [],
   "source": []
  }
 ],
 "metadata": {
  "kernelspec": {
   "display_name": "Python 3 (ipykernel)",
   "language": "python",
   "name": "python3"
  },
  "language_info": {
   "codemirror_mode": {
    "name": "ipython",
    "version": 3
   },
   "file_extension": ".py",
   "mimetype": "text/x-python",
   "name": "python",
   "nbconvert_exporter": "python",
   "pygments_lexer": "ipython3",
   "version": "3.7.3"
  }
 },
 "nbformat": 4,
 "nbformat_minor": 5
}
