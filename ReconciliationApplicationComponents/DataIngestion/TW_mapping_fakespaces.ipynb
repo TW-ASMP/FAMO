{
 "cells": [
  {
   "cell_type": "code",
   "execution_count": 1,
   "id": "e3b58d6a-72b8-477a-a59a-b79aeff0604e",
   "metadata": {
    "tags": []
   },
   "outputs": [],
   "source": [
    "import pandas as pd\n",
    "import datetime"
   ]
  },
  {
   "cell_type": "code",
   "execution_count": 2,
   "id": "7701fe71-a365-4835-b41b-794b49f1de08",
   "metadata": {
    "tags": []
   },
   "outputs": [],
   "source": [
    "fakespace_df = pd.read_csv(\"01-tw-fakespaces.csv\")"
   ]
  },
  {
   "cell_type": "markdown",
   "id": "d14f2153-6144-4576-95ff-56b7a5967782",
   "metadata": {
    "tags": []
   },
   "source": [
    "# Incorporating rdf transformation"
   ]
  },
  {
   "cell_type": "code",
   "execution_count": 3,
   "id": "61eb92f7-691f-4933-ac83-dc9721df8b87",
   "metadata": {
    "tags": []
   },
   "outputs": [],
   "source": [
    "#define key namespaces to be used in the mapping\n",
    "famo = \"http://ontology.eil.utoronto.ca/FAMO/famo/\"\n",
    "ex = \"http://example.com/data/\"\n",
    "rdf = \"http://www.w3.org/1999/02/22-rdf-syntax-ns#\"\n",
    "owl = \"http://www.w3.org/2002/07/owl#\"\n",
    "\n",
    "#current datetime to be used for identifier suffix\n",
    "dt_now = datetime.datetime.now().strftime(\"%d%b%Y_%H%M%S\")"
   ]
  },
  {
   "cell_type": "markdown",
   "id": "d202c42c-75df-4201-aab1-98ffd19e2cd8",
   "metadata": {},
   "source": [
    "## Role mapping"
   ]
  },
  {
   "cell_type": "markdown",
   "id": "c4c65892-3bd1-454c-a965-7628e9e83707",
   "metadata": {},
   "source": [
    "**TODO** test for null values in all columns before mapping"
   ]
  },
  {
   "cell_type": "code",
   "execution_count": 4,
   "id": "959912f9-88b1-48f3-a187-74ecd1f4951d",
   "metadata": {
    "tags": []
   },
   "outputs": [],
   "source": [
    "ttl_list = []\n",
    "#prefixes\n",
    "ttl_list.append(f\"PREFIX famo: <{famo}>\"+'\\n')\n",
    "ttl_list.append(f\"PREFIX ex: <{ex}>\"+'\\n')\n",
    "ttl_list.append(f\"PREFIX rdf: <{rdf}>\"+'\\n')\n",
    "ttl_list.append(f\"PREFIX owl: <{owl}>\"+'\\n')\n",
    "\n",
    "for i in range(0,len(fakespace_df)):\n",
    "    #record instantiation and interpretation\n",
    "    ttl_list.append(f\"ex:wms_spacerec_{fakespace_df['Space'][i]} rdf:type famo:Record.\"+'\\n')\n",
    "    #instantiated in wms\n",
    "    ttl_list.append(f\"ex:wms_spacerec_{fakespace_df['Space'][i]} famo:instantiatedIn ex:wms_datasystem.\"+'\\n')\n",
    "    ttl_list.append(f\"ex:wms_spacerec_{fakespace_df['Space'][i]} famo:hasInterpretation ex:wms_spaceinterpretation_{fakespace_df['Space'][i]}.\"+'\\n')\n",
    "    ttl_list.append(f\"ex:wms_spaceinterpretation_{fakespace_df['Space'][i]} famo:denotes ex:{fakespace_df['Space'][i]}.\"+'\\n')\n",
    "    ttl_list.append(f\"ex:{fakespace_df['Space'][i]} rdf:type famo:PhysicalSpace.\"+'\\n')\n",
    "\n",
    "    #record properties\n",
    "    #contains space(s), if applicable\n",
    "    if (pd.notna(fakespace_df['ContainsSpace'][i])):\n",
    "        ttl_list.append(f\"ex:wms_spacerec_{fakespace_df['Space'][i]} famo:representsObjectOf ex:wms_spaceincl_{fakespace_df['ContainsSpace'][i]}_{dt_now}.\"+'\\n')\n",
    "        ttl_list.append(f\"ex:wms_spaceincl_{fakespace_df['ContainsSpace'][i]}_{dt_now} a famo:SpaceInclusionRelation.\"+'\\n')\n",
    "        ttl_list.append(f\"ex:wms_spaceincl_{fakespace_df['ContainsSpace'][i]}_{dt_now} famo:subjectIsRepresentedBy ex:wms_spacerec_{fakespace_df['ContainsSpace'][i]}.\"+'\\n')\n",
    "### HERE ###\n",
    "    #entity number\n",
    "    ttl_list.append(f\"ex:wms_spacerec_{fakespace_df['Space'][i]} famo:representsSubjectOf ex:wms_spaceid_{fakespace_df['Space'][i]}_{dt_now}.\"+'\\n')\n",
    "    ttl_list.append(f\"ex:wms_spaceincl_{fakespace_df['SpaceNum'][i]}_{dt_now} a famo:IdentificationNumberProperty.\"+'\\n')\n",
    "    ttl_list.append(f\"ex:wms_spaceincl_{fakespace_df['SpaceNum'][i]}_{dt_now} famo:hasValue '{fakespace_df['SpaceNum'][i]}'.\"+'\\n')\n",
    "    \n",
    "    #description\n",
    "    ttl_list.append(f\"ex:wms_spacerec_{fakespace_df['Space'][i]} famo:representsSubjectOf ex:wms_desc_{fakespace_df['Space'][i]}_{dt_now}.\"+'\\n')\n",
    "    ttl_list.append(f\"ex:wms_desc_{fakespace_df['Space'][i]}_{dt_now} a famo:NameProperty.\"+'\\n')\n",
    "    ttl_list.append(f\"ex:wms_desc_{fakespace_df['Space'][i]}_{dt_now} famo:hasValue '{fakespace_df['Description'][i]}'.\"+'\\n')"
   ]
  },
  {
   "cell_type": "code",
   "execution_count": 5,
   "id": "778d74be-cb62-4d84-8bb5-c6e6852cfa50",
   "metadata": {
    "tags": []
   },
   "outputs": [],
   "source": [
    "ttl_results = open(\"01_fakespace_out.ttl\", \"a\")\n",
    "#for i in range(0,len(fakeasset_df)-1):\n",
    "#record instantiation and interpretation\n",
    "ttl_results.writelines(ttl_list)\n",
    "\n",
    "ttl_results.close()"
   ]
  },
  {
   "cell_type": "code",
   "execution_count": null,
   "id": "77d26d67-0e28-4e15-9c92-46d9291a9859",
   "metadata": {},
   "outputs": [],
   "source": []
  }
 ],
 "metadata": {
  "kernelspec": {
   "display_name": "Python 3 (ipykernel)",
   "language": "python",
   "name": "python3"
  },
  "language_info": {
   "codemirror_mode": {
    "name": "ipython",
    "version": 3
   },
   "file_extension": ".py",
   "mimetype": "text/x-python",
   "name": "python",
   "nbconvert_exporter": "python",
   "pygments_lexer": "ipython3",
   "version": "3.7.3"
  }
 },
 "nbformat": 4,
 "nbformat_minor": 5
}
