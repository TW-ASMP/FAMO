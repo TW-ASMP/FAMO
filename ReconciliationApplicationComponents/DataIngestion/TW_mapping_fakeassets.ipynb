{
 "cells": [
  {
   "cell_type": "code",
   "execution_count": 1,
   "id": "e3b58d6a-72b8-477a-a59a-b79aeff0604e",
   "metadata": {
    "tags": []
   },
   "outputs": [],
   "source": [
    "import pandas as pd\n",
    "import datetime\n",
    "#need to update this to remove Source mapping"
   ]
  },
  {
   "cell_type": "code",
   "execution_count": 2,
   "id": "7701fe71-a365-4835-b41b-794b49f1de08",
   "metadata": {
    "tags": []
   },
   "outputs": [],
   "source": [
    "fakeasset_df = pd.read_csv(\"01-tw-fakeassets.csv\")"
   ]
  },
  {
   "cell_type": "markdown",
   "id": "d14f2153-6144-4576-95ff-56b7a5967782",
   "metadata": {
    "tags": []
   },
   "source": [
    "# Incorporating rdf transformation"
   ]
  },
  {
   "cell_type": "code",
   "execution_count": 3,
   "id": "61eb92f7-691f-4933-ac83-dc9721df8b87",
   "metadata": {
    "tags": []
   },
   "outputs": [],
   "source": [
    "#define key namespaces to be used in the mapping\n",
    "famo = \"http://ontology.eil.utoronto.ca/FAMO/famo/\"\n",
    "ex = \"http://example.com/data/\"\n",
    "rdf = \"http://www.w3.org/1999/02/22-rdf-syntax-ns#\"\n",
    "owl = \"http://www.w3.org/2002/07/owl#\"\n",
    "\n",
    "#current datetime to be used for identifier suffix\n",
    "dt_now = datetime.datetime.now().strftime(\"%d%b%Y_%H%M%S\")"
   ]
  },
  {
   "cell_type": "markdown",
   "id": "d202c42c-75df-4201-aab1-98ffd19e2cd8",
   "metadata": {},
   "source": [
    "## Asset mapping\n",
    "\n",
    "* **TODO** test for null values in all columns before mapping\n",
    "* **Note** for the purposes of this mapping, the role records are used to generate corresponding DH entities. Each Role record is represented as pinned to the corresponding DH entity (to instantiate the data set), and initialized with the wms entity number as canonical."
   ]
  },
  {
   "cell_type": "code",
   "execution_count": 4,
   "id": "959912f9-88b1-48f3-a187-74ecd1f4951d",
   "metadata": {
    "tags": []
   },
   "outputs": [],
   "source": [
    "ttl_list = []\n",
    "#prefixes\n",
    "ttl_list.append(f\"PREFIX famo: <{famo}>\"+'\\n')\n",
    "ttl_list.append(f\"PREFIX ex: <{ex}>\"+'\\n')\n",
    "ttl_list.append(f\"PREFIX rdf: <{rdf}>\"+'\\n')\n",
    "ttl_list.append(f\"PREFIX owl: <{owl}>\"+'\\n')\n",
    "\n",
    "for i in range(0,len(fakeasset_df)):\n",
    "    #record instantiation and interpretation\n",
    "    ttl_list.append(f\"ex:wms_assetrec_{fakeasset_df['Asset'][i]} rdf:type famo:Record.\"+'\\n')\n",
    "    #instantiated in wms_datasystem\n",
    "    ttl_list.append(f\"ex:wms_assetrec_{fakeasset_df['Asset'][i]} famo:instantiatedIn ex:wms_datasystem.\"+'\\n')\n",
    "    ttl_list.append(f\"ex:wms_assetrec_{fakeasset_df['Asset'][i]} famo:hasInterpretation ex:wms_assetinterpretation_{fakeasset_df['Asset'][i]}.\"+'\\n')\n",
    "    #denotes corresponding dhid\n",
    "    ttl_list.append(f\"ex:wms_assetinterpretation_{fakeasset_df['Asset'][i]} famo:denotes ex:dhid_{fakeasset_df['Asset'][i]}.\"+'\\n')\n",
    "    ttl_list.append(f\"ex:dhid_{fakeasset_df['Asset'][i]} rdf:type famo:Asset.\"+'\\n')\n",
    "    #assert class type for dhid\n",
    "        #note: this isn't part of the semantic mapping of the wms data but a means of initializing the dh entities\n",
    "    ttl_list.append(f\"ex:dhid_{fakeasset_df['Asset'][i]} rdf:type <{fakeasset_df['AssetClass'][i]}>.\"+'\\n')\n",
    "    \n",
    "    #record properties\n",
    "    #asset id\n",
    "    ttl_list.append(f\"ex:wms_assetrec_{fakeasset_df['Asset'][i]} famo:representsSubjectOf ex:wms_assetnum_{fakeasset_df['Asset'][i]}_{dt_now}.\"+'\\n')\n",
    "    ttl_list.append(f\"ex:wms_assetnum_{fakeasset_df['Asset'][i]}_{dt_now} a famo:IdentificationNumberProperty.\"+'\\n')\n",
    "    ttl_list.append(f\"ex:wms_assetnum_{fakeasset_df['Asset'][i]}_{dt_now} famo:hasValue '{fakeasset_df['AssetNum'][i]}'.\"+'\\n')\n",
    "\n",
    "    #asset serial number\n",
    "    ttl_list.append(f\"ex:wms_assetrec_{fakeasset_df['Asset'][i]} famo:representsSubjectOf ex:wms_serialnum_{fakeasset_df['Asset'][i]}_{dt_now}.\"+'\\n')\n",
    "    ttl_list.append(f\"ex:wms_serialnum_{fakeasset_df['Asset'][i]}_{dt_now} a famo:SerialNumberProperty.\"+'\\n')\n",
    "    ttl_list.append(f\"ex:wms_serialnum_{fakeasset_df['Asset'][i]}_{dt_now} famo:hasValue '{fakeasset_df['SerialNum'][i]}'.\"+'\\n')\n",
    "    \n",
    "    #asset class\n",
    "    ttl_list.append(f\"ex:wms_assetrec_{fakeasset_df['Asset'][i]} famo:representsSubjectOf ex:wms_assetclass_{fakeasset_df['Asset'][i]}_{dt_now}.\"+'\\n')\n",
    "    ttl_list.append(f\"ex:wms_assetclass_{fakeasset_df['Asset'][i]}_{dt_now} a famo:ClassMembershipRelation.\"+'\\n')\n",
    "    ttl_list.append(f\"ex:wms_assetclass_{fakeasset_df['Asset'][i]}_{dt_now} famo:hasObject <{fakeasset_df['AssetClass'][i]}>.\"+'\\n')\n",
    "\n",
    "    #status\n",
    "    ttl_list.append(f\"ex:wms_assetrec_{fakeasset_df['Asset'][i]} famo:representsSubjectOf ex:wms_assetstatus_{fakeasset_df['Asset'][i]}_{dt_now}.\"+'\\n')\n",
    "    ttl_list.append(f\"ex:wms_assetstatus_{fakeasset_df['Asset'][i]}_{dt_now} a famo:StatusRelation.\"+'\\n')\n",
    "    ttl_list.append(f\"ex:wms_assetstatus_{fakeasset_df['Asset'][i]}_{dt_now} famo:hasObject <{fakeasset_df['Status'][i]}>.\"+'\\n')\n",
    "\n",
    "    #asset role\n",
    "    ttl_list.append(f\"ex:wms_assetrec_{fakeasset_df['Asset'][i]} famo:representsObjectOf ex:wms_assetrole_{fakeasset_df['Asset'][i]}_{dt_now}.\"+'\\n')\n",
    "    ttl_list.append(f\"ex:wms_assetrole_{fakeasset_df['Asset'][i]}_{dt_now} a famo:RoleOccupationRelation.\"+'\\n')\n",
    "    ttl_list.append(f\"ex:wms_assetrole_{fakeasset_df['Asset'][i]}_{dt_now} famo:subjectIsRepresentedBy ex:wms_rolerec_{fakeasset_df['ServingRole'][i]}.\"+'\\n')\n",
    "\n",
    "    #motor size, if applicable\n",
    "    if (pd.notna(fakeasset_df['MotorSize'][i])):\n",
    "        ttl_list.append(f\"ex:wms_assetrec_{fakeasset_df['Asset'][i]} famo:representsSubjectOf ex:wms_motorsize_{fakeasset_df['Asset'][i]}_{dt_now}.\"+'\\n')\n",
    "        ttl_list.append(f\"ex:wms_motorsize_{fakeasset_df['Asset'][i]}_{dt_now} a famo:MotorsizeProperty.\"+'\\n')\n",
    "        ttl_list.append(f\"ex:wms_motorsize_{fakeasset_df['Asset'][i]}_{dt_now} famo:hasValue '{fakeasset_df['MotorSize'][i]}'.\"+'\\n')"
   ]
  },
  {
   "cell_type": "code",
   "execution_count": 5,
   "id": "778d74be-cb62-4d84-8bb5-c6e6852cfa50",
   "metadata": {
    "tags": []
   },
   "outputs": [],
   "source": [
    "ttl_results = open(\"01_fakeasset_out.ttl\", \"a\")\n",
    "#for i in range(0,len(fakeasset_df)-1):\n",
    "#record instantiation and interpretation\n",
    "ttl_results.writelines(ttl_list)\n",
    "\n",
    "ttl_results.close()"
   ]
  }
 ],
 "metadata": {
  "kernelspec": {
   "display_name": "Python 3 (ipykernel)",
   "language": "python",
   "name": "python3"
  },
  "language_info": {
   "codemirror_mode": {
    "name": "ipython",
    "version": 3
   },
   "file_extension": ".py",
   "mimetype": "text/x-python",
   "name": "python",
   "nbconvert_exporter": "python",
   "pygments_lexer": "ipython3",
   "version": "3.7.3"
  }
 },
 "nbformat": 4,
 "nbformat_minor": 5
}
