{
 "cells": [
  {
   "cell_type": "code",
   "execution_count": 1,
   "id": "e3b58d6a-72b8-477a-a59a-b79aeff0604e",
   "metadata": {
    "tags": []
   },
   "outputs": [],
   "source": [
    "import pandas as pd\n",
    "import datetime\n",
    "#need to update this to map parent role instead of subrole"
   ]
  },
  {
   "cell_type": "code",
   "execution_count": 2,
   "id": "7701fe71-a365-4835-b41b-794b49f1de08",
   "metadata": {
    "tags": []
   },
   "outputs": [],
   "source": [
    "#where role_capital.csv is the csv conversion of the reconciliation sheet provided by TH\n",
    "role_df = pd.read_csv(\"role_capital.csv\")"
   ]
  },
  {
   "cell_type": "markdown",
   "id": "d14f2153-6144-4576-95ff-56b7a5967782",
   "metadata": {
    "tags": []
   },
   "source": [
    "# RDF transformation"
   ]
  },
  {
   "cell_type": "markdown",
   "id": "1fbf9445-c71d-4cf8-ba8b-0cecd7cbd975",
   "metadata": {},
   "source": [
    "## Variables for IRI generation"
   ]
  },
  {
   "cell_type": "code",
   "execution_count": 3,
   "id": "61eb92f7-691f-4933-ac83-dc9721df8b87",
   "metadata": {
    "tags": []
   },
   "outputs": [],
   "source": [
    "#define key namespaces to be used in the mapping\n",
    "famo = \"http://ontology.eil.utoronto.ca/FAMO/famo/\"\n",
    "ex = \"http://example.com/data/\"\n",
    "rdf = \"http://www.w3.org/1999/02/22-rdf-syntax-ns#\"\n",
    "owl = \"http://www.w3.org/2002/07/owl#\"\n",
    "\n",
    "#current datetime to be used for identifier suffix\n",
    "dt_now = datetime.datetime.now().strftime(\"%d%b%Y_%H%M%S\")"
   ]
  },
  {
   "cell_type": "markdown",
   "id": "d202c42c-75df-4201-aab1-98ffd19e2cd8",
   "metadata": {},
   "source": [
    "## Object mapping\n",
    "Consider what key objects are represented in each row of data. Are the IRIs included in the dataset, or do we need to generate them?\n",
    "For each object in each row, break down its mapping by assertion of its existence, and assertion of any properties identified in the data."
   ]
  },
  {
   "cell_type": "markdown",
   "id": "c4c65892-3bd1-454c-a965-7628e9e83707",
   "metadata": {},
   "source": [
    "**TODO** test for null values in all columns before mapping"
   ]
  },
  {
   "cell_type": "code",
   "execution_count": 4,
   "id": "959912f9-88b1-48f3-a187-74ecd1f4951d",
   "metadata": {
    "tags": []
   },
   "outputs": [],
   "source": [
    "#these lists will store all of the text to be exported as a ttl files\n",
    "ttl_list = []\n",
    "ttl_nothing_list = []\n",
    "#prefixes\n",
    "ttl_list.append(f\"PREFIX famo: <{famo}>\"+'\\n')\n",
    "ttl_list.append(f\"PREFIX ex: <{ex}>\"+'\\n')\n",
    "ttl_list.append(f\"PREFIX rdf: <{rdf}>\"+'\\n')\n",
    "ttl_list.append(f\"PREFIX owl: <{owl}>\"+'\\n')\n",
    "ttl_nothing_list.append(f\"PREFIX famo: <{famo}>\"+'\\n')\n",
    "ttl_nothing_list.append(f\"PREFIX ex: <{ex}>\"+'\\n')\n",
    "ttl_nothing_list.append(f\"PREFIX rdf: <{rdf}>\"+'\\n')\n",
    "ttl_nothing_list.append(f\"PREFIX owl: <{owl}>\"+'\\n')\n",
    "\n",
    "#note: in theory - it would make more sense for the data to contain the full DHE IRI (as stored in the datahub), not the abbreviation without the namespace\n",
    "#for now, we'll add the ex:namespace back in, but in an end to end implementation the export (from the data hub) would likely contain the raw IRI and would not need to be modified\n",
    "#associated validation activity\n",
    "#if we break down the activity into more levels of detail across the entries we'll need to include this in the loop, but for now a single statement is sufficient\n",
    "ttl_list.append(f\"ex:{role_df['Project DHE ID'][0]} rdf:type famo:Project.\"+'\\n')\n",
    "\n",
    "#for each row in the dataset\n",
    "for i in range(0,len(role_df)):\n",
    "    #the role is in the project scope\n",
    "    ttl_list.append(f\"ex:{role_df['Role DHE URI'][i]} famo:inProjectScope ex:{role_df['Project DHE ID'][i]}.\"+'\\n')\n",
    "#Changes to Roles During the Project\n",
    "    #1. Role remains\n",
    "    if (role_df['Changes to Roles During the Project'][i] == '1. Role remains'):\n",
    "        ttl_list.append(f\"ex:{role_df['Project DHE ID'][i]} famo:hasOutcomeProperty ex:role_status_relation_{role_df['Role DHE URI'][i]}_{dt_now}.\" + '\\n')\n",
    "        ttl_list.append(f\"ex:role_status_relation_{role_df['Role DHE URI'][i]}_{dt_now} a famo:StatusRelation.\" + '\\n')\n",
    "        ttl_list.append(f\"ex:role_status_relation_{role_df['Role DHE URI'][i]}_{dt_now} famo:hasSubject ex:{role_df['Role DHE URI'][i]}.\" + '\\n')\n",
    "        ttl_list.append(f\"ex:role_status_relation_{role_df['Role DHE URI'][i]}_{dt_now} famo:hasObject ex:role_status_{role_df['Role DHE URI'][i]}_{dt_now}.\" + '\\n')\n",
    "        ttl_list.append(f\"ex:role_status_{role_df['Role DHE URI'][i]}_{dt_now} a famo:RealizedRoleStatus.\" + '\\n')\n",
    "    #2. Role is removed\n",
    "    elif (role_df['Changes to Roles During the Project'][i] == '2. Role is removed'):\n",
    "        ttl_list.append(f\"ex:{role_df['Project DHE ID'][i]} famo:hasOutcomeProperty ex:role_status_relation_{role_df['Role DHE URI'][i]}_{dt_now}.\" + '\\n')\n",
    "        ttl_list.append(f\"ex:role_status_relation_{role_df['Role DHE URI'][i]}_{dt_now} a famo:StatusRelation.\" + '\\n')\n",
    "        ttl_list.append(f\"ex:role_status_relation_{role_df['Role DHE URI'][i]}_{dt_now} famo:hasSubject ex:{role_df['Role DHE URI'][i]}.\" + '\\n')\n",
    "        ttl_list.append(f\"ex:role_status_relation_{role_df['Role DHE URI'][i]}_{dt_now} famo:hasObject ex:role_status_{role_df['Role DHE URI'][i]}_{dt_now}.\" + '\\n')\n",
    "        ttl_list.append(f\"ex:role_status_{role_df['Role DHE URI'][i]}_{dt_now} a famo:EliminatedRoleStatus.\" + '\\n')\n",
    "    #3. Role is new\n",
    "    elif (role_df['Changes to Roles During the Project'][i] == '3. Role is new'):\n",
    "        ttl_list.append(f\"ex:{role_df['Project DHE ID'][i]} famo:hasOutcomeProperty ex:role_status_relation_{role_df['Role DHE URI'][i]}_{dt_now}.\" + '\\n')\n",
    "        ttl_list.append(f\"ex:role_status_relation_{role_df['Role DHE URI'][i]}_{dt_now} a famo:StatusRelation.\" + '\\n')\n",
    "        ttl_list.append(f\"ex:role_status_relation_{role_df['Role DHE URI'][i]}_{dt_now} famo:hasSubject ex:{role_df['Role DHE URI'][i]}.\" + '\\n')\n",
    "        ttl_list.append(f\"ex:role_status_relation_{role_df['Role DHE URI'][i]}_{dt_now} famo:hasObject ex:role_status_{role_df['Role DHE URI'][i]}_{dt_now}.\" + '\\n')\n",
    "        ttl_list.append(f\"ex:role_status_{role_df['Role DHE URI'][i]}_{dt_now} a famo:RealizedRoleStatus.\" + '\\n')\n",
    "    #4. Role is planned\n",
    "    elif (role_df['Changes to Roles During the Project'][i] == '4. Role is planned'):\n",
    "        ttl_list.append(f\"ex:{role_df['Project DHE ID'][i]} famo:hasOutcomeProperty ex:role_status_relation_{role_df['Role DHE URI'][i]}_{dt_now}.\" + '\\n')\n",
    "        ttl_list.append(f\"ex:role_status_relation_{role_df['Role DHE URI'][i]}_{dt_now} a famo:StatusRelation.\" + '\\n')\n",
    "        ttl_list.append(f\"ex:role_status_relation_{role_df['Role DHE URI'][i]}_{dt_now} famo:hasSubject ex:{role_df['Role DHE URI'][i]}.\" + '\\n')\n",
    "        ttl_list.append(f\"ex:role_status_relation_{role_df['Role DHE URI'][i]}_{dt_now} famo:hasObject ex:role_status_{role_df['Role DHE URI'][i]}_{dt_now}.\" + '\\n')\n",
    "        ttl_list.append(f\"ex:role_status_{role_df['Role DHE URI'][i]}_{dt_now} a famo:SpecifiedRoleStatus.\" + '\\n')\n",
    "    #null\n",
    "    elif (pd.isna(role_df['Changes to Roles During the Project'][i])):\n",
    "        ttl_list.append(f\"ex:{role_df['Project DHE ID'][i]} famo:hasOutcomeProperty ex:role_status_relation_{role_df['Role DHE URI'][i]}_{dt_now}.\" + '\\n')\n",
    "        ttl_list.append(f\"ex:role_status_relation_{role_df['Role DHE URI'][i]}_{dt_now} a famo:StatusRelation.\" + '\\n')\n",
    "        ttl_list.append(f\"ex:role_status_relation_{role_df['Role DHE URI'][i]}_{dt_now} famo:hasSubject ex:{role_df['Role DHE URI'][i]}.\" + '\\n')\n",
    "        \n",
    "#Post-project Asset Occupant DHE URI\n",
    "    #Nothing\n",
    "    if (role_df['Post-project Asset Occupant DHE URI'][i] == '#Nothing'):\n",
    "        ttl_list.append(f\"ex:{role_df['Role DHE URI'][i]} famo:subjectOf ex:role_occ_relation_{role_df['Role DHE URI'][i]}_{dt_now}.\" +'\\n')\n",
    "        ttl_list.append(f\"ex:role_occ_relation_{role_df['Role DHE URI'][i]}_{dt_now} a famo:RoleOccupationRelation.\"+'\\n')\n",
    "        ttl_list.append(f\"ex:{role_df['Project DHE ID'][i]} famo:hasOutcomeProperty ex:role_occ_relation_{role_df['Role DHE URI'][i]}_{dt_now}.\"+'\\n')\n",
    "        ttl_nothing_list.append(f\"ex:role_occ_relation_{role_df['Role DHE URI'][i]}_{dt_now} famo:hasObject famo:nothing.\"+'\\n')\n",
    "    #NK (null)\n",
    "    elif (pd.isna(role_df['Post-project Asset Occupant DHE URI'][i])):\n",
    "        ttl_list.append(f\"ex:{role_df['Role DHE URI'][i]} famo:subjectOf ex:role_occ_relation_{role_df['Role DHE URI'][i]}_{dt_now}.\" +'\\n')\n",
    "        ttl_list.append(f\"ex:role_occ_relation_{role_df['Role DHE URI'][i]}_{dt_now} a famo:RoleOccupationRelation.\"+'\\n')\n",
    "        ttl_list.append(f\"ex:{role_df['Project DHE ID'][i]} famo:hasOutcomeProperty ex:role_occ_relation_{role_df['Role DHE URI'][i]}_{dt_now}.\"+'\\n')\n",
    "    #not null\n",
    "    elif (pd.notna(role_df['Post-project Asset Occupant DHE URI'][i])):\n",
    "        ttl_list.append(f\"ex:{role_df['Role DHE URI'][i]} famo:subjectOf ex:role_occ_relation_{role_df['Role DHE URI'][i]}_{dt_now}.\" +'\\n')\n",
    "        ttl_list.append(f\"ex:role_occ_relation_{role_df['Role DHE URI'][i]}_{dt_now} a famo:RoleOccupationRelation.\"+'\\n')\n",
    "        ttl_list.append(f\"ex:{role_df['Project DHE ID'][i]} famo:hasOutcomeProperty ex:role_occ_relation_{role_df['Role DHE URI'][i]}_{dt_now}.\"+'\\n')\n",
    "        ttl_list.append(f\"ex:role_occ_relation_{role_df['Role DHE URI'][i]}_{dt_now} famo:hasObject ex:{role_df['Post-project Asset Occupant DHE URI'][i]}.\"+'\\n')"
   ]
  },
  {
   "cell_type": "code",
   "execution_count": 5,
   "id": "778d74be-cb62-4d84-8bb5-c6e6852cfa50",
   "metadata": {
    "tags": []
   },
   "outputs": [],
   "source": [
    "#append all of the text in ttl_list to the file role_capital_output.ttl\n",
    "ttl_results = open(\"role_capital_output.ttl\", \"a\")\n",
    "ttl_results.writelines(ttl_list)\n",
    "\n",
    "ttl_results.close()\n",
    "\n",
    "#append all \"nothing results\" in ttl_nothing_list to the file role_capital_nothing_output.ttl\n",
    "ttl_nothing_results = open(\"role_capital_nothing_output.ttl\", \"a\")\n",
    "ttl_nothing_results.writelines(ttl_nothing_list)\n",
    "\n",
    "ttl_nothing_results.close()"
   ]
  }
 ],
 "metadata": {
  "kernelspec": {
   "display_name": "Python 3 (ipykernel)",
   "language": "python",
   "name": "python3"
  },
  "language_info": {
   "codemirror_mode": {
    "name": "ipython",
    "version": 3
   },
   "file_extension": ".py",
   "mimetype": "text/x-python",
   "name": "python",
   "nbconvert_exporter": "python",
   "pygments_lexer": "ipython3",
   "version": "3.7.3"
  }
 },
 "nbformat": 4,
 "nbformat_minor": 5
}
