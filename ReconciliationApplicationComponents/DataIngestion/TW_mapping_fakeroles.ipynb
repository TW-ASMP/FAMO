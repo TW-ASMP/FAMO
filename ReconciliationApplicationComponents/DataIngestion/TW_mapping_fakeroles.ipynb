{
 "cells": [
  {
   "cell_type": "code",
   "execution_count": 1,
   "id": "e3b58d6a-72b8-477a-a59a-b79aeff0604e",
   "metadata": {
    "tags": []
   },
   "outputs": [],
   "source": [
    "import pandas as pd\n",
    "import datetime"
   ]
  },
  {
   "cell_type": "code",
   "execution_count": 2,
   "id": "7701fe71-a365-4835-b41b-794b49f1de08",
   "metadata": {
    "tags": []
   },
   "outputs": [
    {
     "name": "stderr",
     "output_type": "stream",
     "text": [
      "/Users/megankatsumi/tw_faker_data/lib/python3.7/site-packages/IPython/core/interactiveshell.py:3553: DtypeWarning: Columns (2,8) have mixed types.Specify dtype option on import or set low_memory=False.\n",
      "  exec(code_obj, self.user_global_ns, self.user_ns)\n"
     ]
    }
   ],
   "source": [
    "fakerole_df = pd.read_csv(\"01-tw-fakeroles.csv\")"
   ]
  },
  {
   "cell_type": "markdown",
   "id": "d14f2153-6144-4576-95ff-56b7a5967782",
   "metadata": {
    "tags": []
   },
   "source": [
    "# RDF transformation"
   ]
  },
  {
   "cell_type": "code",
   "execution_count": 3,
   "id": "61eb92f7-691f-4933-ac83-dc9721df8b87",
   "metadata": {
    "tags": []
   },
   "outputs": [],
   "source": [
    "#define key namespaces to be used in the mapping\n",
    "famo = \"http://ontology.eil.utoronto.ca/FAMO/famo/\"\n",
    "ex = \"http://example.com/data/\"\n",
    "rdf = \"http://www.w3.org/1999/02/22-rdf-syntax-ns#\"\n",
    "owl = \"http://www.w3.org/2002/07/owl#\"\n",
    "\n",
    "#current datetime to be used for identifier suffix\n",
    "dt_now = datetime.datetime.now().strftime(\"%d%b%Y_%H%M%S\")"
   ]
  },
  {
   "cell_type": "markdown",
   "id": "d202c42c-75df-4201-aab1-98ffd19e2cd8",
   "metadata": {},
   "source": [
    "## Role mapping"
   ]
  },
  {
   "cell_type": "markdown",
   "id": "c4c65892-3bd1-454c-a965-7628e9e83707",
   "metadata": {},
   "source": [
    "**TODO** test for null values in all columns before mapping"
   ]
  },
  {
   "cell_type": "markdown",
   "id": "99da33c5-a0e0-4ad2-995e-7d24b4d7261a",
   "metadata": {},
   "source": [
    "**Note** for the purposes of this mapping, the role records are used to generate corresponding DH entities. Each Role record is represented as pinned to the corresponding DH entity (to instantiate the data set), and initialized with the wms entity number as canonical."
   ]
  },
  {
   "cell_type": "code",
   "execution_count": 4,
   "id": "959912f9-88b1-48f3-a187-74ecd1f4951d",
   "metadata": {
    "tags": []
   },
   "outputs": [],
   "source": [
    "ttl_list = []\n",
    "#prefixes\n",
    "ttl_list.append(f\"PREFIX famo: <{famo}>\"+'\\n')\n",
    "ttl_list.append(f\"PREFIX ex: <{ex}>\"+'\\n')\n",
    "ttl_list.append(f\"PREFIX rdf: <{rdf}>\"+'\\n')\n",
    "ttl_list.append(f\"PREFIX owl: <{owl}>\"+'\\n')\n",
    "\n",
    "for i in range(0,len(fakerole_df)):\n",
    "    #record instantiation and interpretation\n",
    "    ttl_list.append(f\"ex:wms_rolerec_{fakerole_df['Role'][i]} rdf:type famo:Record.\"+'\\n')\n",
    "    ttl_list.append(f\"ex:wms_rolerec_{fakerole_df['Role'][i]} famo:hasInterpretation ex:wms_roleinterpretation_{fakerole_df['Role'][i]}.\"+'\\n')\n",
    "    #denotes corresponding dhid (a role, with an entity number)\n",
    "    ttl_list.append(f\"ex:wms_roleinterpretation_{fakerole_df['Role'][i]} famo:denotes ex:dhid_{fakerole_df['Role'][i]}.\"+'\\n')\n",
    "    ttl_list.append(f\"ex:dhid_{fakerole_df['Role'][i]} rdf:type famo:Role.\"+'\\n')\n",
    "    ttl_list.append(f\"ex:dhid_{fakerole_df['Role'][i]} famo:hasEntityNumber '{fakerole_df['EntityNum'][i]}'.\"+'\\n')\n",
    "\n",
    "    #record properties\n",
    "    #subrole, if applicable\n",
    "    if (pd.notna(fakerole_df['Subrole'][i])):\n",
    "        ttl_list.append(f\"ex:wms_rolerec_{fakerole_df['Role'][i]} famo:representsObjectOf ex:wms_roleincl_{fakerole_df['Role'][i]}_{dt_now}.\"+'\\n')\n",
    "        ttl_list.append(f\"ex:wms_roleincl_{fakerole_df['Role'][i]}_{dt_now} a famo:RoleInclusionRelation.\"+'\\n')\n",
    "        ttl_list.append(f\"ex:wms_roleincl_{fakerole_df['Role'][i]}_{dt_now} famo:subjectIsRepresentedBy ex:wms_rolerec_{fakerole_df['Subrole'][i]}.\"+'\\n')\n",
    "\n",
    "    #entity number\n",
    "    ttl_list.append(f\"ex:wms_rolerec_{fakerole_df['Role'][i]} famo:representsSubectOf ex:wms_eum_{fakerole_df['Role'][i]}_{dt_now}.\"+'\\n')\n",
    "    ttl_list.append(f\"ex:wms_eum_{fakerole_df['Role'][i]}_{dt_now} a famo:EntityNumberProperty.\"+'\\n')\n",
    "    ttl_list.append(f\"ex:wms_eum_{fakerole_df['Role'][i]}_{dt_now} famo:hasValue '{fakerole_df['EntityNum'][i]}'.\"+'\\n')\n",
    "    \n",
    "    #description\n",
    "    ttl_list.append(f\"ex:wms_rolerec_{fakerole_df['Role'][i]} famo:representsSubectOf ex:wms_desc_{fakerole_df['Role'][i]}_{dt_now}.\"+'\\n')\n",
    "    ttl_list.append(f\"ex:wms_desc_{fakerole_df['Role'][i]}_{dt_now} a famo:NameProperty.\"+'\\n')\n",
    "    ttl_list.append(f\"ex:wms_desc_{fakerole_df['Role'][i]}_{dt_now} famo:hasValue '{fakerole_df['Description'][i]}'.\"+'\\n')\n",
    "    \n",
    "    #status\n",
    "    ttl_list.append(f\"ex:wms_rolerec_{fakerole_df['Role'][i]} famo:representsSubectOf ex:wms_status_{fakerole_df['Role'][i]}_{dt_now}.\"+'\\n')\n",
    "    ttl_list.append(f\"ex:wms_status_{fakerole_df['Role'][i]}_{dt_now} a famo:RoleStatusProperty.\"+'\\n')\n",
    "    ttl_list.append(f\"ex:wms_status_{fakerole_df['Role'][i]}_{dt_now} famo:hasValue '{fakerole_df['RoleStatus'][i]}'.\"+'\\n')  \n",
    "    \n",
    "    #criticality\n",
    "    ttl_list.append(f\"ex:wms_rolerec_{fakerole_df['Role'][i]} famo:representsSubectOf ex:wms_criticality_{fakerole_df['Role'][i]}_{dt_now}.\"+'\\n')\n",
    "    ttl_list.append(f\"ex:wms_criticality_{fakerole_df['Role'][i]}_{dt_now} a famo:RoleCriticalityProperty.\"+'\\n')\n",
    "    ttl_list.append(f\"ex:wms_criticality_{fakerole_df['Role'][i]}_{dt_now} famo:hasValue '{fakerole_df['Criticality'][i]}'.\"+'\\n')  \n",
    "    \n",
    "    #space, if applicable\n",
    "    if (pd.notna(fakerole_df['Space'][i])):\n",
    "        ttl_list.append(f\"ex:wms_rolerec_{fakerole_df['Role'][i]} famo:representsSubectOf ex:wms_space_{fakerole_df['Role'][i]}_{dt_now}.\"+'\\n')\n",
    "        ttl_list.append(f\"ex:wms_space_{fakerole_df['Role'][i]}_{dt_now} a famo:RoleLocationRelation.\"+'\\n')\n",
    "        ttl_list.append(f\"ex:wms_space_{fakerole_df['Role'][i]}_{dt_now} famo:objectIsRepresentedBy ex:wms_spacerec_{fakerole_df['Space'][i]}.\"+'\\n')  \n",
    " "
   ]
  },
  {
   "cell_type": "code",
   "execution_count": 5,
   "id": "778d74be-cb62-4d84-8bb5-c6e6852cfa50",
   "metadata": {
    "tags": []
   },
   "outputs": [],
   "source": [
    "ttl_results = open(\"01_fakerole_out.ttl\", \"a\")\n",
    "#for i in range(0,len(fakeasset_df)-1):\n",
    "#record instantiation and interpretation\n",
    "ttl_results.writelines(ttl_list)\n",
    "\n",
    "ttl_results.close()"
   ]
  }
 ],
 "metadata": {
  "kernelspec": {
   "display_name": "Python 3 (ipykernel)",
   "language": "python",
   "name": "python3"
  },
  "language_info": {
   "codemirror_mode": {
    "name": "ipython",
    "version": 3
   },
   "file_extension": ".py",
   "mimetype": "text/x-python",
   "name": "python",
   "nbconvert_exporter": "python",
   "pygments_lexer": "ipython3",
   "version": "3.7.3"
  }
 },
 "nbformat": 4,
 "nbformat_minor": 5
}
