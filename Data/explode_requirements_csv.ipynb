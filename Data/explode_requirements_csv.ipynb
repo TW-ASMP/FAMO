{
 "cells": [
  {
   "cell_type": "code",
   "execution_count": 10,
   "metadata": {},
   "outputs": [],
   "source": [
    "import pandas as pd"
   ]
  },
  {
   "cell_type": "code",
   "execution_count": 11,
   "metadata": {},
   "outputs": [],
   "source": [
    "filepath=\"venv_compliance_1apr2023/Requirement 03Apr2023.csv\""
   ]
  },
  {
   "cell_type": "code",
   "execution_count": 12,
   "metadata": {},
   "outputs": [],
   "source": [
    "output=\"venv_compliance_1apr2023/Requirement03Apr2023_exploded.csv\""
   ]
  },
  {
   "cell_type": "code",
   "execution_count": 13,
   "metadata": {},
   "outputs": [],
   "source": [
    "#to_explode=['Doc ID', 'Act ID', 'Req ID (is grounding)', 'Class ID']\n",
    "#TO DO: generalize code to work with any list of attributes"
   ]
  },
  {
   "cell_type": "code",
   "execution_count": 14,
   "metadata": {},
   "outputs": [],
   "source": [
    "df = pd.read_csv(filepath, delimiter = \",\")\n",
    "df=df.fillna(\"\")"
   ]
  },
  {
   "cell_type": "code",
   "execution_count": 15,
   "metadata": {},
   "outputs": [],
   "source": [
    "df['Doc ID']=df['Doc ID'].apply(str)\n",
    "df['Act ID'] = df['Act ID'].apply(str)\n",
    "df['Req ID (is grounding)'] = df['Req ID (is grounding)'].apply(str)\n",
    "df['Class ID'] = df['Class ID'].apply(str)\n"
   ]
  },
  {
   "cell_type": "code",
   "execution_count": 16,
   "metadata": {},
   "outputs": [],
   "source": [
    "#for each column to explode, turn values (specifically string lists) into lists\n",
    "df['Doc ID'] = df['Doc ID'].str.split(',')\n",
    "df['Act ID'] = df['Act ID'].str.split(',')\n",
    "df['Req ID (is grounding)'] = df['Req ID (is grounding)'].str.split(',')\n",
    "df['Class ID'] = df['Class ID'].str.split(',')"
   ]
  },
  {
   "cell_type": "code",
   "execution_count": 17,
   "metadata": {},
   "outputs": [],
   "source": [
    "# explode 'Doc ID', 'Act ID', 'Req ID (is grounding)', 'Class ID'\n",
    "df=df.explode('Doc ID')\n",
    "df=df.explode ('Act ID')\n",
    "df=df.explode ('Req ID (is grounding)')\n",
    "df=df.explode ('Class ID')"
   ]
  },
  {
   "cell_type": "code",
   "execution_count": 18,
   "metadata": {},
   "outputs": [],
   "source": [
    "df.to_csv(output)"
   ]
  },
  {
   "cell_type": "code",
   "execution_count": null,
   "metadata": {},
   "outputs": [],
   "source": []
  }
 ],
 "metadata": {
  "kernelspec": {
   "display_name": "venv_compliance_1apr2023",
   "language": "python",
   "name": "venv_compliance_1apr2023"
  },
  "language_info": {
   "codemirror_mode": {
    "name": "ipython",
    "version": 3
   },
   "file_extension": ".py",
   "mimetype": "text/x-python",
   "name": "python",
   "nbconvert_exporter": "python",
   "pygments_lexer": "ipython3",
   "version": "3.7.3"
  }
 },
 "nbformat": 4,
 "nbformat_minor": 2
}
