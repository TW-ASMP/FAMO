{
 "cells": [
  {
   "cell_type": "code",
   "execution_count": 9,
   "metadata": {},
   "outputs": [],
   "source": [
    "import pandas as pd\n",
    "import numpy as np"
   ]
  },
  {
   "cell_type": "code",
   "execution_count": 10,
   "metadata": {},
   "outputs": [],
   "source": [
    "filepath=\"venv_compliance_1apr2023/Activity.csv\""
   ]
  },
  {
   "cell_type": "code",
   "execution_count": 11,
   "metadata": {},
   "outputs": [],
   "source": [
    "output=\"venv_compliance_1apr2023/Activity_exploded.csv\""
   ]
  },
  {
   "cell_type": "code",
   "execution_count": 12,
   "metadata": {},
   "outputs": [],
   "source": [
    "#todo: rework code to work for a list of column names\n",
    "#to_explode=['Applies to Class', 'Parent ID']"
   ]
  },
  {
   "cell_type": "code",
   "execution_count": 13,
   "metadata": {},
   "outputs": [],
   "source": [
    "df = pd.read_csv(filepath, delimiter = \",\")\n",
    "df=df.fillna(\"\")"
   ]
  },
  {
   "cell_type": "code",
   "execution_count": 14,
   "metadata": {},
   "outputs": [],
   "source": [
    "#cast columns to explode to string\n",
    "df['Applies to Class']=df['Applies to Class'].apply(str)\n",
    "df['Parent ID'] = df['Parent ID'].apply(str)\n",
    "#for each column to explode, turn values (specifically string lists) into lists\n",
    "df['Applies to Class'] = df['Applies to Class'].str.split(',')\n",
    "df['Parent ID'] = df['Parent ID'].str.split(',')"
   ]
  },
  {
   "cell_type": "code",
   "execution_count": 15,
   "metadata": {},
   "outputs": [],
   "source": [
    "# explode 'Doc ID', 'Act ID', 'Req ID (is grounding)', 'Class ID'\n",
    "df=df.explode('Applies to Class')\n",
    "df=df.explode ('Parent ID')"
   ]
  },
  {
   "cell_type": "code",
   "execution_count": 16,
   "metadata": {},
   "outputs": [],
   "source": [
    "df.to_csv(output)"
   ]
  },
  {
   "cell_type": "code",
   "execution_count": null,
   "metadata": {},
   "outputs": [],
   "source": []
  }
 ],
 "metadata": {
  "kernelspec": {
   "display_name": "venv_compliance_1apr2023",
   "language": "python",
   "name": "venv_compliance_1apr2023"
  },
  "language_info": {
   "codemirror_mode": {
    "name": "ipython",
    "version": 3
   },
   "file_extension": ".py",
   "mimetype": "text/x-python",
   "name": "python",
   "nbconvert_exporter": "python",
   "pygments_lexer": "ipython3",
   "version": "3.7.3"
  }
 },
 "nbformat": 4,
 "nbformat_minor": 2
}
